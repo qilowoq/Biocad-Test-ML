{
 "cells": [
  {
   "cell_type": "code",
   "execution_count": 1,
   "metadata": {},
   "outputs": [],
   "source": [
    "import matplotlib.pyplot as plt\n",
    "import numpy as np\n",
    "import pandas as pd\n",
    "from tqdm import tqdm\n",
    "from Bio.Seq import Seq\n",
    "from prody import *\n",
    "from scipy.spatial import distance_matrix\n",
    "from annotate import Annotate\n",
    "import ablang"
   ]
  },
  {
   "cell_type": "code",
   "execution_count": 2,
   "metadata": {},
   "outputs": [],
   "source": [
    "# импортируем датасет\n",
    "\n",
    "df = pd.read_table('data/20230314_0502373_summary.tsv')\n",
    "\n",
    "# оставляем только protein и peptide в качестве antigen_type\n",
    "\n",
    "df = df[df['antigen_chain'].apply(lambda x: type(x) == str)] # случаи когда тип антигена не определен\n",
    "df = df[df['Lchain'].apply(lambda x: type(x) == str)] # случаи когда id цепи антитела не определены\n",
    "df = df[df['Hchain'].apply(lambda x: type(x) == str)] # случаи когда id цепи антитела не определены\n",
    "\n",
    "\n",
    "def func(s):\n",
    "    for si in s.split(' | '):\n",
    "        if si != 'peptide' and si != 'protein':\n",
    "            return False\n",
    "    return True\n",
    "\n",
    "df = df[df['antigen_type'].apply(func)]\n",
    "\n",
    "# также в датасете scfv. Такое тоже убираем. Софт для аннотации который я использую не справляется с таким все равно.\n",
    "\n",
    "df = df[df.scfv == False]"
   ]
  },
  {
   "cell_type": "code",
   "execution_count": 3,
   "metadata": {},
   "outputs": [
    {
     "data": {
      "text/plain": [
       "('*************SPGERATLSCRASQSVSDAYLAWYQQKPGQAPRLLIYDASSRATGVPARFSGSGSGTDFTLTISSLEPEDFAVYYCHQYIQLHSFTFGQGTKVEIKRTV',\n",
       " '-----------------------------++-+----------------++----------------------------------------++-+-----------------',\n",
       " '0000000000000000000000011111111111122222222222222233333334444444444444444444444444444444455555555556666666666666',\n",
       " '0111010')"
      ]
     },
     "execution_count": 3,
     "metadata": {},
     "output_type": "execute_result"
    }
   ],
   "source": [
    "def get_y(seq, parseq, scheme='chothia'):\n",
    "    \"\"\"\n",
    "    Делает много чего, но в основном нумерует последовательность антитела seq.\n",
    "    И возвращает \"отнумерованное\" антитело, паратоп, regions и y\n",
    "\n",
    "    описание regions:\n",
    "        regions[i] == '0' => i-ая аминокислота в FR1\n",
    "        regions[i] == '1' => i-ая аминокислота в CDR1\n",
    "        regions[i] == '2' => i-ая аминокислота в FR2\n",
    "        regions[i] == '3' => i-ая аминокислота в CDR2\n",
    "        regions[i] == '4' => i-ая аминокислота в FR3\n",
    "        regions[i] == '5' => i-ая аминокислота в CDR3\n",
    "        regions[i] == '6' => i-ая аминокислота в FR4\n",
    "\n",
    "    описание y:\n",
    "       y[i] == 1 если паратоп есть в regions[i]\n",
    "\n",
    "    \"\"\"\n",
    "    assert len(seq) == len(parseq)\n",
    "    num = Annotate(seq, scheme).retrieve()\n",
    "    if num is None:\n",
    "        raise TypeError\n",
    "    skipped_aacids = int(list(num[1])[0][1:]) - 1 # сколько аминокислот отсутствуют с С конца\n",
    "    seq = ''.join(num[0][i] for i in num[0]) # оставляем только V-домен\n",
    "    parseq = parseq[:len(seq)]\n",
    "    is_paratope = (np.array(list(parseq)) == '+')\n",
    "    if sum(is_paratope[len(seq):]) > 0: # отбрасываем такое антитело тк оно содержит паратоп в С-домене.\n",
    "        print('-------C-domain-alert-------')\n",
    "        raise TypeError\n",
    "    regions = np.zeros(len(seq), dtype=int)\n",
    "    y = list('0000000')\n",
    "    start = 0\n",
    "    for i, k in enumerate(num[0]):\n",
    "        end = start + len(num[0][k])\n",
    "        regions[start: end] = i\n",
    "        if sum(is_paratope[start:end]) > 0:\n",
    "            y[i] = '1'\n",
    "        start = end\n",
    "    regions = ''.join(map(str, regions))\n",
    "    seq = '*'*skipped_aacids + seq # добавим слева \"*\" обозначающие отсутствующие аминокислоты\n",
    "    parseq = '-'*skipped_aacids + parseq # добавим слева \"-\" чтобы выравнять длины цепей\n",
    "    regions = '0'*skipped_aacids + regions\n",
    "    return seq, parseq, regions, ''.join(y)\n",
    "\n",
    "# Пример \n",
    "\n",
    "seq = 'SPGERATLSCRASQSVSDAYLAWYQQKPGQAPRLLIYDASSRATGVPARFSGSGSGTDFTLTISSLEPEDFAVYYCHQYIQLHSFTFGQGTKVEIKRTVAAPSVFIFPPSDEQLKSGTASVVCLLNNFYPREAKVQWKVDNALQSGNSQESVTEQDSKDSTYSLSSTLTLSKADYEKHKVYACEVTHQGLSSPVTKSFNR'\n",
    "par = '----------------++-+----------------++----------------------------------------++-+----------------------------------------------------------------------------------------------------------------------'\n",
    "\n",
    "get_y(seq, par, scheme='chothia')"
   ]
  },
  {
   "cell_type": "code",
   "execution_count": 4,
   "metadata": {},
   "outputs": [],
   "source": [
    "# некоторые функции для того, чтобы парсить pdb файлики\n",
    "\n",
    "def in_order(a: np.ndarray):\n",
    "    \"\"\"\n",
    "    Проверяет, что массив отсортирован в возрастающем порядке\n",
    "    \"\"\"\n",
    "    return np.all(a[:-1] <= a[1:])\n",
    "\n",
    "\n",
    "def get_paratope(ab: AtomGroup, ag: AtomGroup, dist=4) -> np.ndarray:\n",
    "    \"\"\"\n",
    "    ab: AtomGroup антитела\n",
    "    ag: AtomGroup антигена\n",
    "\n",
    "    Парсит и возвращает индексы аминокислот в паратопе.\n",
    "    Считаем, что аминокислота принадлежит паратопу если \n",
    "    у этой аминокислоты есть атом расстояние от которого\n",
    "    до любого из атомов антигена меньше dist. \n",
    "    По дефолту dist=4 ангстрема \n",
    "    (так паратоп получался не слишком большой и не слишком маленький).\n",
    "    \"\"\"\n",
    "    paratope_atom_ids = []\n",
    "    dm = distance_matrix(ab.getCoords(), ag.getCoords())\n",
    "    for i in range(dm.shape[0]):\n",
    "        for j in range(dm.shape[1]):\n",
    "            if dm[i, j] < dist:\n",
    "                paratope_atom_ids.append(i)\n",
    "    ab_res_inds = ab.select('ca').getResindices()\n",
    "    assert in_order(ab_res_inds)\n",
    "    paratope = ab.getResindices()[paratope_atom_ids] - ab_res_inds[0]\n",
    "    return np.unique(paratope)\n",
    "\n",
    "\n",
    "def get_paratope_seq(ab, ag, dist=4):\n",
    "    \"\"\"\n",
    "    Применяет get_paratope(ab, ag, dist=4) и возвращает последовательнось \n",
    "    антитела и последовательность паратопа: \"+\" - паратоп; \"-\" - не паратоп\n",
    "    \"\"\"\n",
    "    ab_seq = ab.select('ca').getSequence()\n",
    "    par_seq = np.array(['-' for _ in range(len(ab_seq))])\n",
    "    par = get_paratope(ab, ag, dist=dist)\n",
    "    flag = True\n",
    "    if len(par) == 0:\n",
    "        flag = False\n",
    "    else:\n",
    "        try:\n",
    "            # иногда бывает IndexError из-за ошибок в pdb файлике\n",
    "            par_seq[par] = '+'\n",
    "        except IndexError:\n",
    "            print('-----failed-----get_paratope_seq')\n",
    "            flag = False\n",
    "    return ab_seq, ''.join(par_seq), flag\n",
    "\n",
    "\n",
    "def get_dist_matrix(chain_atoms: AtomGroup, chain_len: int) -> np.ndarray:\n",
    "    coodrs = chain_atoms.select('ca').getCoords()[:chain_len, :]\n",
    "    return distance_matrix(coodrs, coodrs)\n",
    "\n",
    "def append_to_dist_dict(dist_dict: dict, dist_matr: np.ndarray, pdb_id: str, chain_id: str) -> dict:\n",
    "    \"\"\"\n",
    "    Добавляет матрицу смежности к dist_dict\n",
    "    \"\"\"\n",
    "    if pdb_id not in dist_dict:\n",
    "        dist_dict[pdb_id] = dict()\n",
    "    dist_dict[pdb_id][chain_id] = dist_matr\n",
    "    return dist_dict\n"
   ]
  },
  {
   "cell_type": "code",
   "execution_count": null,
   "metadata": {},
   "outputs": [],
   "source": [
    "# Применяем все выше написанное и получаем\n",
    "# Заняло примерно 3 часа\n",
    "\n",
    "d = {\n",
    "    'pdb': [],\n",
    "    'L_chain': [],\n",
    "    'H_chain': [],\n",
    "    'AG_chain': [],\n",
    "    'L_sequence_missing': [],\n",
    "    'H_sequence_missing': [],\n",
    "    'L_paratope': [],\n",
    "    'H_paratope': [],\n",
    "    'L_domain': [],\n",
    "    'H_domain': [],\n",
    "    'L_y': [],\n",
    "    'H_y': [],\n",
    "}\n",
    "dist_dict = dict()\n",
    "\n",
    "for i, row in tqdm(df.iterrows(), total=len(df)):\n",
    "    l = row.Lchain\n",
    "    h = row.Hchain\n",
    "    ag = row.antigen_chain\n",
    "    for a in ag.split(' | '):\n",
    "        atoms = parseMMCIF('pdb/{}.cif.gz'.format(row.pdb))\n",
    "        ag_atoms = atoms.select('chain {} protein'.format(a))\n",
    "        lc_atoms = atoms.select('chain {} protein'.format(l))\n",
    "        hc_atoms = atoms.select('chain {} protein'.format(h))\n",
    "        if ag_atoms is None or lc_atoms is None or hc_atoms is None:\n",
    "            # почему-то индексы цепей в pdb файлике и в датасете отличаются. \n",
    "            # Там бывает, что в датасете у легкой цепи антитела индекс 'L', \n",
    "            # а в pdb файлике у нее индекс 'LLL'. Я просто скипаю такие цепи. \n",
    "            # Если честно было лень разбираться. К тому же таких инцидентов 4-5 штук.\n",
    "            print('-----failed-----parse-PDB')\n",
    "            continue\n",
    "        L_sequence, L_paratope, flag1 = get_paratope_seq(lc_atoms, ag_atoms)\n",
    "        H_sequence, H_paratope, flag2 = get_paratope_seq(hc_atoms, ag_atoms)\n",
    "        try:\n",
    "            # иногда библиотека которую я использую для нумерования\n",
    "            # антител не срабатывает по разным причинам (например, цепь из pdb файлика не полная)\n",
    "            # тогда скипаем такое антитело\n",
    "            L_sequence, L_paratope, L_domain, L_y = get_y(L_sequence, L_paratope)\n",
    "            H_sequence, H_paratope, H_domain, H_y = get_y(H_sequence, H_paratope)\n",
    "            assert len(L_sequence) == len(L_paratope) and len(L_sequence) == len(L_domain)\n",
    "            assert len(H_sequence) == len(H_paratope) and len(H_sequence) == len(H_domain)\n",
    "        except TypeError:\n",
    "            print('-----failed-----get_y')\n",
    "            continue\n",
    "        l_seq_len = len(L_sequence.strip('*'))\n",
    "        l_dist_matr = get_dist_matrix(lc_atoms, l_seq_len)\n",
    "        dist_dict = append_to_dist_dict(dist_dict, l_dist_matr, row.pdb, l)\n",
    "        h_seq_len = len(H_sequence.strip('*'))\n",
    "        h_dist_matr = get_dist_matrix(hc_atoms, h_seq_len)\n",
    "        dist_dict = append_to_dist_dict(dist_dict, h_dist_matr, row.pdb, h)\n",
    "        d['pdb'].append(row.pdb)\n",
    "        d['L_chain'].append(l)\n",
    "        d['H_chain'].append(h)\n",
    "        d['AG_chain'].append(a)\n",
    "        d['L_sequence_missing'].append(L_sequence)\n",
    "        d['H_sequence_missing'].append(H_sequence)\n",
    "        d['L_paratope'].append(L_paratope)\n",
    "        d['H_paratope'].append(H_paratope)\n",
    "        d['L_domain'].append(L_domain)\n",
    "        d['H_domain'].append(H_domain)               \n",
    "        d['L_y'].append(int(L_y, 2))\n",
    "        d['H_y'].append(int(H_y, 2))\n",
    "\n",
    "pd.DataFrame(d).to_csv('data/full_ds.csv', index=False)\n",
    "\n",
    "with open('data/dist_dict.pickle', 'wb') as handle:\n",
    "    pickle.dump(dist_dict, handle, protocol=pickle.HIGHEST_PROTOCOL)"
   ]
  },
  {
   "attachments": {},
   "cell_type": "markdown",
   "metadata": {},
   "source": [
    "# Восстановление последовательностей антител"
   ]
  },
  {
   "cell_type": "code",
   "execution_count": 18,
   "metadata": {},
   "outputs": [],
   "source": [
    "df = pd.read_csv('data/full_ds.csv') "
   ]
  },
  {
   "attachments": {},
   "cell_type": "markdown",
   "metadata": {},
   "source": [
    "Как можно заметить, в датасете присутствуют последовательности которые chothia расценила как неполные. Их можно дополнить. Будем использовать для этого AbLang. "
   ]
  },
  {
   "cell_type": "code",
   "execution_count": 84,
   "metadata": {},
   "outputs": [
    {
     "data": {
      "text/plain": [
       "<Axes: >"
      ]
     },
     "execution_count": 84,
     "metadata": {},
     "output_type": "execute_result"
    },
    {
     "data": {
      "image/png": "[encoded data removed]",
      "text/plain": [
       "<Figure size 640x480 with 1 Axes>"
      ]
     },
     "metadata": {},
     "output_type": "display_data"
    }
   ],
   "source": [
    "# распределение по количеству отсутствующих аминокислот в начале цепи для легких цепей\n",
    "\n",
    "df.L_sequence.apply(lambda x: len(x) - len(x.strip('*'))).hist(bins=10, range=[0, 10])"
   ]
  },
  {
   "cell_type": "code",
   "execution_count": 83,
   "metadata": {},
   "outputs": [
    {
     "data": {
      "text/plain": [
       "<Axes: >"
      ]
     },
     "execution_count": 83,
     "metadata": {},
     "output_type": "execute_result"
    },
    {
     "data": {
      "image/png": "[encoded data removed]",
      "text/plain": [
       "<Figure size 640x480 with 1 Axes>"
      ]
     },
     "metadata": {},
     "output_type": "display_data"
    }
   ],
   "source": [
    "# распределение по количеству отсутствующих аминокислот в начале цепи для тяжелых цепей\n",
    "\n",
    "df.H_sequence.apply(lambda x: len(x) - len(x.strip('*'))).hist(bins=10, range=[0, 10])"
   ]
  },
  {
   "attachments": {},
   "cell_type": "markdown",
   "metadata": {},
   "source": [
    "Импортируем модели восстанавливаем для тяжелых и легких цепей"
   ]
  },
  {
   "cell_type": "code",
   "execution_count": 89,
   "metadata": {},
   "outputs": [],
   "source": [
    "heavy = ablang.pretrained('heavy')\n",
    "light = ablang.pretrained('light')"
   ]
  },
  {
   "cell_type": "code",
   "execution_count": 90,
   "metadata": {},
   "outputs": [
    {
     "name": "stderr",
     "output_type": "stream",
     "text": [
      "100%|██████████| 2602/2602 [05:55<00:00,  7.33it/s]\n"
     ]
    }
   ],
   "source": [
    "# заняло примерно 7 минут на cpu\n",
    "\n",
    "restored_heavy_chains = []\n",
    "restored_light_chains = []\n",
    "\n",
    "for i, row in tqdm(df.iterrows(), total=len(df)):\n",
    "    seq_h = row.H_sequence\n",
    "    seq_l = row.L_sequence\n",
    "    if len(seq_h) - len(seq_h.strip('*')) > 0:\n",
    "        seq_h = heavy(seq_h, mode='restore')[0]\n",
    "    restored_heavy_chains.append(seq_h)\n",
    "    if len(seq_l) - len(seq_l.strip('*')) > 0:\n",
    "        seq_l = light(seq_l, mode='restore')[0]\n",
    "    restored_light_chains.append(seq_l)"
   ]
  },
  {
   "cell_type": "code",
   "execution_count": 97,
   "metadata": {},
   "outputs": [],
   "source": [
    "df['H_sequence'] = restored_heavy_chains\n",
    "df['L_sequence'] = restored_light_chains"
   ]
  },
  {
   "cell_type": "code",
   "execution_count": null,
   "metadata": {},
   "outputs": [],
   "source": [
    "df.to_csv('data/full_ds.csv', index=False)"
   ]
  },
  {
   "attachments": {},
   "cell_type": "markdown",
   "metadata": {},
   "source": [
    "Кластеризация в файлике clustering.ipynb"
   ]
  }
 ],
 "metadata": {
  "kernelspec": {
   "display_name": "base",
   "language": "python",
   "name": "python3"
  },
  "language_info": {
   "codemirror_mode": {
    "name": "ipython",
    "version": 3
   },
   "file_extension": ".py",
   "mimetype": "text/x-python",
   "name": "python",
   "nbconvert_exporter": "python",
   "pygments_lexer": "ipython3",
   "version": "3.10.9"
  },
  "orig_nbformat": 4
 },
 "nbformat": 4,
 "nbformat_minor": 2
}
